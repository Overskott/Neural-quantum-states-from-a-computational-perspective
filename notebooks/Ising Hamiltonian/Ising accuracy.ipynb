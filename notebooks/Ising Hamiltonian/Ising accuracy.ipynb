{
 "cells": [
  {
   "cell_type": "code",
   "execution_count": 1,
   "id": "42d8226d",
   "metadata": {},
   "outputs": [],
   "source": [
    "# From here: https://stackoverflow.com/questions/49264194/import-py-file-in-another-directory-in-jupyter-notebook\n",
    "import sys\n",
    "import os\n",
    "\n",
    "module_path = os.path.abspath(os.path.join('..'))\n",
    "\n",
    "if module_path not in sys.path:\n",
    "    sys.path.append(module_path)\n"
   ]
  },
  {
   "cell_type": "code",
   "execution_count": 2,
   "id": "75e039a7",
   "metadata": {},
   "outputs": [],
   "source": [
    "import numpy as np\n",
    "import copy\n",
    "\n",
    "from src.nqs import RBM, IsingHamiltonian, ReducedIsingHamiltonian\n",
    "from config_parser import get_config_file\n",
    "\n",
    "import matplotlib.pyplot as plt\n",
    "%matplotlib inline\n"
   ]
  },
  {
   "cell_type": "code",
   "execution_count": null,
   "id": "9c145fd2",
   "metadata": {},
   "outputs": [],
   "source": []
  },
  {
   "cell_type": "code",
   "execution_count": 3,
   "id": "98ab5d26",
   "metadata": {},
   "outputs": [],
   "source": [
    "time_list = []\n",
    "for i in range(5, 10):\n",
    "    H = IsingHamiltonian(i)\n",
    "    time_list.append(utils.time_function(np.linalg.eig, H))\n",
    "    "
   ]
  },
  {
   "cell_type": "code",
   "execution_count": 4,
   "id": "bb4a4866",
   "metadata": {
    "scrolled": false
   },
   "outputs": [
    {
     "name": "stdout",
     "output_type": "stream",
     "text": [
      "Ising brute force: 0.000000\n",
      "Ising brute force: 0.000000\n",
      "Ising brute force: 0.000000\n",
      "Ising brute force: 0.078125\n",
      "Ising brute force: 0.218750\n"
     ]
    },
    {
     "data": {
      "text/plain": [
       "[None, None, None, None, None]"
      ]
     },
     "execution_count": 4,
     "metadata": {},
     "output_type": "execute_result"
    }
   ],
   "source": [
    "[print(f\"Ising brute force: {time:8f}\") for time in time_list]"
   ]
  },
  {
   "cell_type": "code",
   "execution_count": 5,
   "id": "8c208c61",
   "metadata": {},
   "outputs": [],
   "source": [
    "time_list = []\n",
    "hidden_layer_size = 8"
   ]
  },
  {
   "cell_type": "code",
   "execution_count": 6,
   "id": "eca3387b",
   "metadata": {},
   "outputs": [
    {
     "name": "stdout",
     "output_type": "stream",
     "text": [
      "Gradient descent step 1, energy: -0.12252593047039241\n",
      "Gradient descent step 2, energy: -0.14228880972490235\n",
      "Gradient descent step 3, energy: -0.08485403422752733\n",
      "Gradient descent interrupted\n",
      "Gradient descent step 1, energy: -0.6567518173935122\n",
      "Gradient descent interrupted\n",
      "Gradient descent step 1, energy: 0.21394994808136822\n",
      "Gradient descent interrupted\n",
      "Gradient descent step 1, energy: -0.16105124210127172\n",
      "Gradient descent interrupted\n"
     ]
    },
    {
     "name": "stderr",
     "output_type": "stream",
     "text": [
      "\n",
      "KeyboardInterrupt\n",
      "\n"
     ]
    }
   ],
   "source": [
    "\n",
    "for i in range(5,16):\n",
    "    H = ReducedIsingHamiltonian(i)\n",
    "\n",
    "    walker = Walker(current_state=utils.random_binary_array(i))\n",
    "    \n",
    "    model = Model(rbm=rbm, walker=walker, hamiltonian=H)\n",
    "    \n",
    "    time_list.append(utils.time_function(model.estimate_energy))\n",
    "    \n",
    "    fd_plot_list_mc = model.gradient_descent(gradient_method='finite_difference', exact_dist=False)"
   ]
  },
  {
   "cell_type": "code",
   "execution_count": null,
   "id": "58bd701d",
   "metadata": {},
   "outputs": [],
   "source": [
    "[print(f\"Ising MCMC: {time:8f}\") for time in time_list]"
   ]
  },
  {
   "cell_type": "code",
   "execution_count": null,
   "id": "ce73f2a0",
   "metadata": {},
   "outputs": [],
   "source": [
    "plt.plot(np.real(fd_plot_sparse_list), label='Sparse H')\n",
    "plt.plot(np.real(fd_plot_full_list), label='Full H')\n",
    "\n",
    "\n",
    "plt.axhline(y=min(np.linalg.eigvalsh(H_full)), color='red', linestyle='--', label='Ground State full')\n",
    "plt.axhline(y=min(np.linalg.eigvalsh(H_sparse)), color='blue', linestyle='--', label='Ground State sparse')\n",
    "plt.title(f\"Sparse vs Full H gradent descent \\n Visible:  {visible_layer_size}, hidden: {hidden_layer_size}\")\n",
    "plt.xlabel('Steps')\n",
    "plt.ylabel('Energy')\n",
    "plt.legend()\n"
   ]
  },
  {
   "cell_type": "code",
   "execution_count": null,
   "id": "4ded2bb6",
   "metadata": {},
   "outputs": [],
   "source": []
  }
 ],
 "metadata": {
  "kernelspec": {
   "display_name": "Python 3 (ipykernel)",
   "language": "python",
   "name": "python3"
  },
  "language_info": {
   "codemirror_mode": {
    "name": "ipython",
    "version": 3
   },
   "file_extension": ".py",
   "mimetype": "text/x-python",
   "name": "python",
   "nbconvert_exporter": "python",
   "pygments_lexer": "ipython3",
   "version": "3.9.13"
  }
 },
 "nbformat": 4,
 "nbformat_minor": 5
}
