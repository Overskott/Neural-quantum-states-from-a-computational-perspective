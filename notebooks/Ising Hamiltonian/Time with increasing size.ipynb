{
 "cells": [
  {
   "cell_type": "code",
   "execution_count": 12,
   "id": "42d8226d",
   "metadata": {},
   "outputs": [],
   "source": [
    "# From here: https://stackoverflow.com/questions/49264194/import-py-file-in-another-directory-in-jupyter-notebook\n",
    "import sys\n",
    "import os\n",
    "from datetime import datetime\n",
    "\n",
    "module_path = os.path.abspath(os.path.join('../..'))\n",
    "\n",
    "if module_path not in sys.path:\n",
    "    sys.path.append(module_path)\n"
   ]
  },
  {
   "cell_type": "code",
   "execution_count": 2,
   "id": "75e039a7",
   "metadata": {},
   "outputs": [
    {
     "ename": "ModuleNotFoundError",
     "evalue": "No module named 'src'",
     "output_type": "error",
     "traceback": [
      "\u001b[1;31m---------------------------------------------------------------------------\u001b[0m",
      "\u001b[1;31mModuleNotFoundError\u001b[0m                       Traceback (most recent call last)",
      "Cell \u001b[1;32mIn[2], line 4\u001b[0m\n\u001b[0;32m      1\u001b[0m \u001b[38;5;28;01mimport\u001b[39;00m \u001b[38;5;21;01mnumpy\u001b[39;00m \u001b[38;5;28;01mas\u001b[39;00m \u001b[38;5;21;01mnp\u001b[39;00m\n\u001b[0;32m      2\u001b[0m \u001b[38;5;28;01mimport\u001b[39;00m \u001b[38;5;21;01mcopy\u001b[39;00m\n\u001b[1;32m----> 4\u001b[0m \u001b[38;5;28;01mimport\u001b[39;00m \u001b[38;5;21;01msrc\u001b[39;00m\u001b[38;5;21;01m.\u001b[39;00m\u001b[38;5;21;01mutils\u001b[39;00m \u001b[38;5;28;01mas\u001b[39;00m \u001b[38;5;21;01mutils\u001b[39;00m\n\u001b[0;32m      5\u001b[0m \u001b[38;5;28;01mfrom\u001b[39;00m \u001b[38;5;21;01msrc\u001b[39;00m\u001b[38;5;21;01m.\u001b[39;00m\u001b[38;5;21;01mnqs\u001b[39;00m \u001b[38;5;28;01mimport\u001b[39;00m RBM, IsingHamiltonian, IsingHamiltonianReduced\n\u001b[0;32m      6\u001b[0m \u001b[38;5;28;01mfrom\u001b[39;00m \u001b[38;5;21;01mconfig_parser\u001b[39;00m \u001b[38;5;28;01mimport\u001b[39;00m get_config_file\n",
      "\u001b[1;31mModuleNotFoundError\u001b[0m: No module named 'src'"
     ]
    }
   ],
   "source": [
    "import numpy as np\n",
    "import copy\n",
    "\n",
    "import src.utils as utils\n",
    "from src.nqs import RBM, IsingHamiltonian, IsingHamiltonianReduced\n",
    "from config_parser import get_config_file\n",
    "\n",
    "import matplotlib.pyplot as plt\n",
    "%matplotlib notebook\n"
   ]
  },
  {
   "cell_type": "code",
   "execution_count": 25,
   "id": "4752a409",
   "metadata": {},
   "outputs": [],
   "source": [
    "visible_size = 4\n",
    "hidden_size = 6\n",
    "seed = 44  # Seed for random number generator\n",
    "walker_steps = 1000\n",
    "gradient_steps = 100\n"
   ]
  },
  {
   "cell_type": "code",
   "execution_count": 26,
   "id": "98ab5d26",
   "metadata": {},
   "outputs": [],
   "source": [
    "np.random.seed(seed)\n",
    "\n",
    "gamma = utils.random_gamma(visible_size)\n",
    "ih = IsingHamiltonian(gamma=gamma)\n",
    "ihr = IsingHamiltonianReduced(gamma=gamma)\n"
   ]
  },
  {
   "cell_type": "code",
   "execution_count": 27,
   "id": "4539f654",
   "metadata": {},
   "outputs": [
    {
     "name": "stdout",
     "output_type": "stream",
     "text": [
      "E_truth: -3.313112070611122\n"
     ]
    }
   ],
   "source": [
    "eig,_ = np.linalg.eigh(ih)\n",
    "I_truth = np.min(eig)\n",
    "print(f\"E_truth: {I_truth}\")\n"
   ]
  },
  {
   "cell_type": "code",
   "execution_count": 28,
   "id": "bb4a4866",
   "metadata": {
    "scrolled": true
   },
   "outputs": [
    {
     "name": "stdout",
     "output_type": "stream",
     "text": [
      "func:train args:[(<src.nqs.RBM object at 0x000001D5B6D40FA0>,), {'iterations': 100, 'lr': 0.01, 'print_energy': False}] took: 35.90792655944824 sec\n"
     ]
    }
   ],
   "source": [
    "ising_reduced_rbm = RBM(visible_size=visible_size, hidden_size=hidden_size, hamiltonian=ihr, walker_steps=walker_steps)\n",
    "ir_energy_list = [it for it in ising_reduced_rbm.train(iterations=gradient_steps, lr=0.01, print_energy=False)]"
   ]
  },
  {
   "cell_type": "code",
   "execution_count": 29,
   "id": "5f43400f",
   "metadata": {
    "scrolled": true
   },
   "outputs": [
    {
     "name": "stdout",
     "output_type": "stream",
     "text": [
      "func:train args:[(<src.nqs.RBM object at 0x000001D5B6A93C70>,), {'iterations': 100, 'lr': 0.01, 'print_energy': False}] took: 35.41229557991028 sec\n"
     ]
    }
   ],
   "source": [
    "ising_rbm = RBM(visible_size=visible_size, hidden_size=hidden_size, hamiltonian=ih, walker_steps=walker_steps)\n",
    "i_energy_list = [it for it in ising_rbm.train(iterations=gradient_steps, lr=0.01,print_energy=False)]"
   ]
  },
  {
   "cell_type": "code",
   "execution_count": 30,
   "id": "59a1c332",
   "metadata": {},
   "outputs": [],
   "source": [
    "plt.axhline(y=I_truth, color='k', linestyle='--')\n",
    "plt.plot(i_energy_list)\n",
    "plt.plot(ir_energy_list, 'r')\n",
    "plt.grid()\n",
    "\n",
    "plt.legend(['Truth', 'Ising', 'Ising Reduced'])\n",
    "\n",
    "plt.show()"
   ]
  },
  {
   "cell_type": "code",
   "execution_count": 8,
   "id": "3ca24da5",
   "metadata": {
    "scrolled": true
   },
   "outputs": [
    {
     "name": "stdout",
     "output_type": "stream",
     "text": [
      "func:train args:[(<src.nqs.RBM object at 0x000001D5B325B0A0>,), {'iterations': 100, 'lr': 0.01, 'print_energy': False}] took: 0.23652148246765137 sec\n",
      "func:train args:[(<src.nqs.RBM object at 0x000001D5B317B460>,), {'iterations': 100, 'lr': 0.01, 'print_energy': False}] took: 43.81325602531433 sec\n",
      "func:train args:[(<src.nqs.RBM object at 0x000001D5B3350E20>,), {'iterations': 100, 'lr': 0.01, 'print_energy': False}] took: 1.2047710418701172 sec\n",
      "func:train args:[(<src.nqs.RBM object at 0x000001D5B3350370>,), {'iterations': 100, 'lr': 0.01, 'print_energy': False}] took: 54.8105583190918 sec\n",
      "func:train args:[(<src.nqs.RBM object at 0x000001D5B33B4F70>,), {'iterations': 100, 'lr': 0.01, 'print_energy': False}] took: 7.19272780418396 sec\n",
      "func:train args:[(<src.nqs.RBM object at 0x000001D5B0724310>,), {'iterations': 100, 'lr': 0.01, 'print_energy': False}] took: 77.43177437782288 sec\n",
      "func:train args:[(<src.nqs.RBM object at 0x000001D5B3350370>,), {'iterations': 100, 'lr': 0.01, 'print_energy': False}] took: 66.61368083953857 sec\n",
      "func:train args:[(<src.nqs.RBM object at 0x000001D5B321EB20>,), {'iterations': 100, 'lr': 0.01, 'print_energy': False}] took: 127.15170478820801 sec\n",
      "func:train args:[(<src.nqs.RBM object at 0x000001D5B33B4B80>,), {'iterations': 100, 'lr': 0.01, 'print_energy': False}] took: 354.82312750816345 sec\n",
      "func:train args:[(<src.nqs.RBM object at 0x000001D5B0708FD0>,), {'iterations': 100, 'lr': 0.01, 'print_energy': False}] took: 233.35409998893738 sec\n",
      "func:train args:[(<src.nqs.RBM object at 0x000001D5B33B4AF0>,), {'iterations': 100, 'lr': 0.01, 'print_energy': False}] took: 1935.6156392097473 sec\n",
      "func:train args:[(<src.nqs.RBM object at 0x000001D5B33B4F70>,), {'iterations': 100, 'lr': 0.01, 'print_energy': False}] took: 463.55867409706116 sec\n"
     ]
    }
   ],
   "source": [
    "time_matrix = []\n",
    "time_reduced = []\n",
    "n_list = []\n",
    "\n",
    "\n",
    "for i in range(4, 11):\n",
    "    visible_size = i\n",
    "    hidden_size = 2*i\n",
    "    \n",
    "    n_list.append(visible_size)\n",
    "    \n",
    "    gamma = utils.random_gamma(visible_size)\n",
    "    ih = IsingHamiltonian(gamma=gamma)\n",
    "    ihr = IsingHamiltonianReduced(gamma=gamma)\n",
    "    \n",
    "    ising_rbm = RBM(visible_size=visible_size, hidden_size=hidden_size, hamiltonian=ih, walker_steps=0)\n",
    "    ising_rbm.train(iterations=gradient_steps, lr=0.01,print_energy=False)\n",
    "    time_matrix.append(ising_rbm.train.run_time)\n",
    "\n",
    "    ising_reduced_rbm = RBM(visible_size=visible_size, hidden_size=hidden_size, hamiltonian=ihr, walker_steps=walker_steps)\n",
    "    ising_reduced_rbm.train(iterations=gradient_steps, lr=0.01,print_energy=False)\n",
    "    time_reduced.append(ising_reduced_rbm.train.run_time)\n",
    "    "
   ]
  },
  {
   "cell_type": "code",
   "execution_count": 1,
   "id": "ffa99fa5",
   "metadata": {},
   "outputs": [
    {
     "ename": "NameError",
     "evalue": "name 'plt' is not defined",
     "output_type": "error",
     "traceback": [
      "\u001b[1;31m---------------------------------------------------------------------------\u001b[0m",
      "\u001b[1;31mNameError\u001b[0m                                 Traceback (most recent call last)",
      "Cell \u001b[1;32mIn[1], line 1\u001b[0m\n\u001b[1;32m----> 1\u001b[0m \u001b[43mplt\u001b[49m\u001b[38;5;241m.\u001b[39mfigure(\u001b[38;5;241m2\u001b[39m)\n\u001b[0;32m      3\u001b[0m plt\u001b[38;5;241m.\u001b[39msemilogy(n_list, time_matrix)\n\u001b[0;32m      4\u001b[0m plt\u001b[38;5;241m.\u001b[39msemilogy(n_list, time_reduced)\n",
      "\u001b[1;31mNameError\u001b[0m: name 'plt' is not defined"
     ]
    }
   ],
   "source": [
    "plt.figure(2)\n",
    "\n",
    "plt.semilogy(n_list, time_matrix)\n",
    "plt.semilogy(n_list, time_reduced)\n",
    "plt.grid()\n",
    "\n",
    "plt.title(\"Training time using matrix and reduced Hamiltonian representations\")\n",
    "plt.legend(['Matrix Hamiltonian', 'Reduced Hamiltonian'])\n",
    "plt.xlabel('# visible nodes')\n",
    "plt.ylabel('time (s)')"
   ]
  },
  {
   "cell_type": "code",
   "execution_count": 33,
   "id": "b2fe60f3",
   "metadata": {},
   "outputs": [],
   "source": [
    "# Save figure as pdf\n",
    "username = os.getlogin()\n",
    "desktop_path = f\"{os.path.expanduser(os.getenv('USERPROFILE'))}\\\\Desktop\"\n",
    "\n",
    "date_format = '%Y.%m.%d;%H%M'\n",
    "\n",
    "path = f\"{desktop_path}\\\\{datetime.now().strftime(date_format)}-Ising timing\"\n",
    "os.makedirs(path)\n",
    "plt.savefig(f\"{path}/ising_time.pdf\")"
   ]
  },
  {
   "cell_type": "code",
   "execution_count": null,
   "id": "4f755507",
   "metadata": {},
   "outputs": [],
   "source": []
  }
 ],
 "metadata": {
  "kernelspec": {
   "display_name": "Python 3 (ipykernel)",
   "language": "python",
   "name": "python3"
  },
  "language_info": {
   "codemirror_mode": {
    "name": "ipython",
    "version": 3
   },
   "file_extension": ".py",
   "mimetype": "text/x-python",
   "name": "python",
   "nbconvert_exporter": "python",
   "pygments_lexer": "ipython3",
   "version": "3.9.13"
  }
 },
 "nbformat": 4,
 "nbformat_minor": 5
}
