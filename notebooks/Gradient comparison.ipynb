{
 "cells": [
  {
   "cell_type": "code",
   "execution_count": 2,
   "id": "42d8226d",
   "metadata": {},
   "outputs": [],
   "source": [
    "# From here: https://stackoverflow.com/questions/49264194/import-py-file-in-another-directory-in-jupyter-notebook\n",
    "import sys\n",
    "import os\n",
    "\n",
    "module_path = os.path.abspath(os.path.join('..'))\n",
    "\n",
    "if module_path not in sys.path:\n",
    "    sys.path.append(module_path)\n"
   ]
  },
  {
   "cell_type": "code",
   "execution_count": 3,
   "id": "75e039a7",
   "metadata": {},
   "outputs": [],
   "source": [
    "import numpy as np\n",
    "import copy\n",
    "\n",
    "import src.mcmc as mcmc\n",
    "import src.utils as utils\n",
    "from src.ansatz import RBM\n",
    "from src.model import Model\n",
    "from config_parser import get_config_file\n",
    "\n",
    "import matplotlib.pyplot as plt\n",
    "%matplotlib inline\n"
   ]
  },
  {
   "cell_type": "code",
   "execution_count": 4,
   "id": "4752a409",
   "metadata": {},
   "outputs": [],
   "source": [
    "visible_layer_size = 4\n",
    "hidden_layer_size = 9\n",
    "seed = 44  # Seed for random number generator\n",
    "gradient_steps = 500\n",
    "walker_steps = 1000\n",
    "learning_rate = 0.05\n",
    "termination_condition = 1e-5\n"
   ]
  },
  {
   "cell_type": "code",
   "execution_count": 5,
   "id": "98ab5d26",
   "metadata": {},
   "outputs": [],
   "source": [
    "np.random.seed(seed)\n",
    "\n",
    "b = utils.random_complex_array(visible_layer_size)  # Visible layer bias\n",
    "c = utils.random_complex_array(hidden_layer_size)  # Hidden layer bias\n",
    "W = utils.random_complex_matrix(visible_layer_size, hidden_layer_size)  # Visible - hidden weights\n",
    "#H = random_hamiltonian(2**visible_layer_size)  # Hamiltonian\n",
    "H = np.diag(np.random.randint(-5, 6, 2**visible_layer_size))  # Hamiltonia\n",
    "#H = np.diag([-2, 0, 2, -7])  # Hamiltonian"
   ]
  },
  {
   "cell_type": "code",
   "execution_count": 6,
   "id": "5f43400f",
   "metadata": {},
   "outputs": [],
   "source": [
    "walker = mcmc.Walker(steps=walker_steps)\n",
    "rbm = RBM(visible_bias=b, hidden_bias=c, weights=W)  # Initializing RBM currently with random configuration and parameters\n",
    "model_1 = Model(rbm, walker, H)  # Initializing model with RBM and Hamiltonian\n",
    "model_2 = copy.deepcopy(model_1)  # Cloning model to have two copies to train on\n",
    "model_3 = copy.deepcopy(model_1)\n",
    "model_4 = copy.deepcopy(model_1)"
   ]
  },
  {
   "cell_type": "code",
   "execution_count": 7,
   "id": "b0a8c7bc",
   "metadata": {},
   "outputs": [
    {
     "name": "stdout",
     "output_type": "stream",
     "text": [
      "RBM GS energy before training: (2.851969944039467-6.919196482528386e-18j)\n",
      "Exact ground state energy (target): -5.0\n"
     ]
    }
   ],
   "source": [
    "print(f\"RBM GS energy before training: {model_1.exact_energy()}\")\n",
    "print(f\"Exact ground state energy (target): {min(np.linalg.eigvalsh(H))}\")"
   ]
  },
  {
   "cell_type": "code",
   "execution_count": 8,
   "id": "bb4a4866",
   "metadata": {
    "scrolled": true
   },
   "outputs": [
    {
     "name": "stdout",
     "output_type": "stream",
     "text": [
      "Gradient descent step 1, energy: (2.851969944039467-6.919196482528386e-18j)\n"
     ]
    },
    {
     "ename": "ValueError",
     "evalue": "all the input arrays must have same number of dimensions, but the array at index 0 has 1 dimension(s) and the array at index 1 has 2 dimension(s)",
     "output_type": "error",
     "traceback": [
      "\u001b[1;31m---------------------------------------------------------------------------\u001b[0m",
      "\u001b[1;31mValueError\u001b[0m                                Traceback (most recent call last)",
      "Cell \u001b[1;32mIn[8], line 5\u001b[0m\n\u001b[0;32m      1\u001b[0m \u001b[38;5;66;03m# Training models\u001b[39;00m\n\u001b[0;32m      2\u001b[0m \u001b[38;5;66;03m#fd_plot_exact_list = model_1.gradient_descent(gradient_method='finite_difference', exact_dist=True, n_steps=gradient_steps, learning_rate=learning_rate, termination_condition=termination_condition)\u001b[39;00m\n\u001b[0;32m      3\u001b[0m \u001b[38;5;66;03m#analytic_plot_est_list = model_2.gradient_descent(gradient_method='analytical', exact_dist=False, n_steps=gradient_steps, learning_rate=learning_rate, termination_condition=termination_condition)\u001b[39;00m\n\u001b[0;32m      4\u001b[0m \u001b[38;5;66;03m#fd_plot_est_list = model_3.gradient_descent(gradient_method='finite_difference', exact_dist=False, n_steps=gradient_steps, learning_rate=learning_rate, termination_condition=termination_condition)\u001b[39;00m\n\u001b[1;32m----> 5\u001b[0m analytic_plot_exact_list \u001b[38;5;241m=\u001b[39m \u001b[43mmodel_4\u001b[49m\u001b[38;5;241;43m.\u001b[39;49m\u001b[43mgradient_descent\u001b[49m\u001b[43m(\u001b[49m\u001b[43mgradient_method\u001b[49m\u001b[38;5;241;43m=\u001b[39;49m\u001b[38;5;124;43m'\u001b[39;49m\u001b[38;5;124;43manalytical\u001b[39;49m\u001b[38;5;124;43m'\u001b[39;49m\u001b[43m,\u001b[49m\u001b[43m \u001b[49m\u001b[43mexact_dist\u001b[49m\u001b[38;5;241;43m=\u001b[39;49m\u001b[38;5;28;43;01mTrue\u001b[39;49;00m\u001b[43m,\u001b[49m\u001b[43m \u001b[49m\u001b[43mn_steps\u001b[49m\u001b[38;5;241;43m=\u001b[39;49m\u001b[43mgradient_steps\u001b[49m\u001b[43m,\u001b[49m\u001b[43m \u001b[49m\u001b[43mlearning_rate\u001b[49m\u001b[38;5;241;43m=\u001b[39;49m\u001b[43mlearning_rate\u001b[49m\u001b[43m,\u001b[49m\u001b[43m \u001b[49m\u001b[43mtermination_condition\u001b[49m\u001b[38;5;241;43m=\u001b[39;49m\u001b[43mtermination_condition\u001b[49m\u001b[43m)\u001b[49m\n",
      "File \u001b[1;32m~\\Python\\Master-Thesis-Project\\src\\model.py:139\u001b[0m, in \u001b[0;36mModel.gradient_descent\u001b[1;34m(self, gradient_method, learning_rate, n_steps, termination_condition, adam_optimization, exact_dist)\u001b[0m\n\u001b[0;32m    136\u001b[0m energy_landscape\u001b[38;5;241m.\u001b[39mappend(energy)\n\u001b[0;32m    138\u001b[0m \u001b[38;5;28;01mif\u001b[39;00m adam_optimization:\n\u001b[1;32m--> 139\u001b[0m     new_grads \u001b[38;5;241m=\u001b[39m adam(\u001b[43mgradient\u001b[49m\u001b[43m(\u001b[49m\u001b[38;5;28;43mself\u001b[39;49m\u001b[43m,\u001b[49m\u001b[43m \u001b[49m\u001b[43mexact_dist\u001b[49m\u001b[43m)\u001b[49m)\n\u001b[0;32m    140\u001b[0m \u001b[38;5;28;01melse\u001b[39;00m:\n\u001b[0;32m    141\u001b[0m     new_grads \u001b[38;5;241m=\u001b[39m gradient(\u001b[38;5;28mself\u001b[39m, exact_dist)\n",
      "File \u001b[1;32m~\\Python\\Master-Thesis-Project\\src\\optimization.py:81\u001b[0m, in \u001b[0;36mAnalyticalGradient.__call__\u001b[1;34m(self, model, exact_dist)\u001b[0m\n\u001b[0;32m     78\u001b[0m \u001b[38;5;28;01melse\u001b[39;00m:\n\u001b[0;32m     79\u001b[0m     \u001b[38;5;28mself\u001b[39m\u001b[38;5;241m.\u001b[39mexact_dist \u001b[38;5;241m=\u001b[39m exact_dist\n\u001b[1;32m---> 81\u001b[0m \u001b[38;5;28;01mreturn\u001b[39;00m \u001b[38;5;28;43mself\u001b[39;49m\u001b[38;5;241;43m.\u001b[39;49m\u001b[43manalytical_gradients\u001b[49m\u001b[43m(\u001b[49m\u001b[43m)\u001b[49m\n",
      "File \u001b[1;32m~\\Python\\Master-Thesis-Project\\src\\optimization.py:89\u001b[0m, in \u001b[0;36mAnalyticalGradient.analytical_gradients\u001b[1;34m(self)\u001b[0m\n\u001b[0;32m     86\u001b[0m \u001b[38;5;28;01melse\u001b[39;00m:\n\u001b[0;32m     87\u001b[0m     gradient \u001b[38;5;241m=\u001b[39m \u001b[38;5;28mself\u001b[39m\u001b[38;5;241m.\u001b[39mestimate_grads\n\u001b[1;32m---> 89\u001b[0m \u001b[38;5;28;01mreturn\u001b[39;00m \u001b[43mgradient\u001b[49m\u001b[43m(\u001b[49m\u001b[38;5;28;43mself\u001b[39;49m\u001b[38;5;241;43m.\u001b[39;49m\u001b[43mmodel\u001b[49m\u001b[38;5;241;43m.\u001b[39;49m\u001b[43mrbm\u001b[49m\u001b[38;5;241;43m.\u001b[39;49m\u001b[43mget_parameters_as_array\u001b[49m\u001b[43m(\u001b[49m\u001b[43m)\u001b[49m\u001b[43m)\u001b[49m\n",
      "File \u001b[1;32m~\\Python\\Master-Thesis-Project\\src\\optimization.py:97\u001b[0m, in \u001b[0;36mAnalyticalGradient.exact_grads\u001b[1;34m(self, params)\u001b[0m\n\u001b[0;32m     94\u001b[0m omega_j \u001b[38;5;241m=\u001b[39m []\n\u001b[0;32m     96\u001b[0m \u001b[38;5;28;01mfor\u001b[39;00m i, state \u001b[38;5;129;01min\u001b[39;00m \u001b[38;5;28menumerate\u001b[39m(distribution):\n\u001b[1;32m---> 97\u001b[0m     omega_j\u001b[38;5;241m.\u001b[39mappend(\u001b[38;5;28;43mself\u001b[39;49m\u001b[38;5;241;43m.\u001b[39;49m\u001b[43momega\u001b[49m\u001b[43m(\u001b[49m\u001b[43mstate\u001b[49m\u001b[43m)\u001b[49m)\n\u001b[0;32m     99\u001b[0m omega_j \u001b[38;5;241m=\u001b[39m np\u001b[38;5;241m.\u001b[39mtranspose(np\u001b[38;5;241m.\u001b[39masarray(omega_j))\n\u001b[0;32m    100\u001b[0m wave_function \u001b[38;5;241m=\u001b[39m np\u001b[38;5;241m.\u001b[39masarray(\u001b[38;5;28mself\u001b[39m\u001b[38;5;241m.\u001b[39mmodel\u001b[38;5;241m.\u001b[39mget_wave_function(distribution))\n",
      "File \u001b[1;32m~\\Python\\Master-Thesis-Project\\src\\optimization.py:154\u001b[0m, in \u001b[0;36mAnalyticalGradient.omega\u001b[1;34m(self, state)\u001b[0m\n\u001b[0;32m    152\u001b[0m \u001b[38;5;28;01mdef\u001b[39;00m \u001b[38;5;21momega\u001b[39m(\u001b[38;5;28mself\u001b[39m, state) \u001b[38;5;241m-\u001b[39m\u001b[38;5;241m>\u001b[39m np\u001b[38;5;241m.\u001b[39mndarray:\n\u001b[1;32m--> 154\u001b[0m     \u001b[38;5;28;01mreturn\u001b[39;00m \u001b[38;5;241m1\u001b[39m \u001b[38;5;241m/\u001b[39m \u001b[38;5;28mself\u001b[39m\u001b[38;5;241m.\u001b[39mmodel\u001b[38;5;241m.\u001b[39mrbm\u001b[38;5;241m.\u001b[39mamplitude(state) \u001b[38;5;241m*\u001b[39m \u001b[38;5;28;43mself\u001b[39;49m\u001b[38;5;241;43m.\u001b[39;49m\u001b[43mparam_grads\u001b[49m\u001b[43m(\u001b[49m\u001b[43mstate\u001b[49m\u001b[43m)\u001b[49m\n",
      "File \u001b[1;32m~\\Python\\Master-Thesis-Project\\src\\optimization.py:170\u001b[0m, in \u001b[0;36mAnalyticalGradient.param_grads\u001b[1;34m(self, state)\u001b[0m\n\u001b[0;32m    167\u001b[0m c_grad \u001b[38;5;241m=\u001b[39m \u001b[38;5;28mself\u001b[39m\u001b[38;5;241m.\u001b[39m_hidden_bias_grads(state)\n\u001b[0;32m    168\u001b[0m w_grad \u001b[38;5;241m=\u001b[39m \u001b[38;5;28mself\u001b[39m\u001b[38;5;241m.\u001b[39m_weights_grads(state)\n\u001b[1;32m--> 170\u001b[0m \u001b[38;5;28;01mreturn\u001b[39;00m \u001b[43mnp\u001b[49m\u001b[38;5;241;43m.\u001b[39;49m\u001b[43mconcatenate\u001b[49m\u001b[43m(\u001b[49m\u001b[43m(\u001b[49m\u001b[43mb_grad\u001b[49m\u001b[43m,\u001b[49m\u001b[43m \u001b[49m\u001b[43mc_grad\u001b[49m\u001b[43m,\u001b[49m\u001b[43m \u001b[49m\u001b[43mw_grad\u001b[49m\u001b[38;5;241;43m.\u001b[39;49m\u001b[43mflatten\u001b[49m\u001b[43m(\u001b[49m\u001b[43m)\u001b[49m\u001b[43m)\u001b[49m\u001b[43m)\u001b[49m\n",
      "File \u001b[1;32m<__array_function__ internals>:180\u001b[0m, in \u001b[0;36mconcatenate\u001b[1;34m(*args, **kwargs)\u001b[0m\n",
      "\u001b[1;31mValueError\u001b[0m: all the input arrays must have same number of dimensions, but the array at index 0 has 1 dimension(s) and the array at index 1 has 2 dimension(s)"
     ]
    }
   ],
   "source": [
    "# Training models\n",
    "#fd_plot_exact_list = model_1.gradient_descent(gradient_method='finite_difference', exact_dist=True, n_steps=gradient_steps, learning_rate=learning_rate, termination_condition=termination_condition)\n",
    "#analytic_plot_est_list = model_2.gradient_descent(gradient_method='analytical', exact_dist=False, n_steps=gradient_steps, learning_rate=learning_rate, termination_condition=termination_condition)\n",
    "#fd_plot_est_list = model_3.gradient_descent(gradient_method='finite_difference', exact_dist=False, n_steps=gradient_steps, learning_rate=learning_rate, termination_condition=termination_condition)\n",
    "analytic_plot_exact_list = model_4.gradient_descent(gradient_method='analytical', exact_dist=True, n_steps=gradient_steps, learning_rate=learning_rate, termination_condition=termination_condition)\n"
   ]
  },
  {
   "cell_type": "code",
   "execution_count": 8,
   "id": "ce73f2a0",
   "metadata": {},
   "outputs": [
    {
     "data": {
      "text/plain": [
       "<matplotlib.legend.Legend at 0x22844178610>"
      ]
     },
     "execution_count": 8,
     "metadata": {},
     "output_type": "execute_result"
    },
    {
     "data": {
      "image/png": "[encoded data removed]",
      "text/plain": [
       "<Figure size 640x480 with 1 Axes>"
      ]
     },
     "metadata": {},
     "output_type": "display_data"
    }
   ],
   "source": [
    "#plt.plot(np.real(fd_plot_exact_list), label='FD-exact')\n",
    "#plt.plot(np.real(fd_plot_est_list), label='FD-estimated')\n",
    "plt.plot(np.real(analytic_plot_exact_list), label='Analytical-exact')\n",
    "#plt.plot(np.real(analytic_plot_est_list), label='Analytical-est')\n",
    "plt.axhline(y=min(np.linalg.eigvalsh(H)), color='red', linestyle='--', label='Ground State')\n",
    "plt.title('Analytical vs finite different gradent descent')\n",
    "plt.xlabel('Steps')\n",
    "plt.ylabel('Energy')\n",
    "plt.legend()\n"
   ]
  },
  {
   "cell_type": "code",
   "execution_count": 24,
   "id": "256fb378",
   "metadata": {},
   "outputs": [
    {
     "name": "stdout",
     "output_type": "stream",
     "text": [
      "Estimated energy FD-exact: -6.979\n",
      "Estimated energy Analytic-estimated: -6.986\n",
      "Estimated energy FD-estimated: -6.183\n",
      "Estimated energy Analytic-exact: -6.979\n"
     ]
    }
   ],
   "source": [
    "print(f\"Estimated energy FD-exact: {model_1.estimate_energy()}\")\n",
    "print(f\"Estimated energy Analytic-estimated: {model_2.estimate_energy()}\")\n",
    "print(f\"Estimated energy FD-estimated: {model_3.estimate_energy()}\")\n",
    "print(f\"Estimated energy Analytic-exact: {model_4.estimate_energy()}\")"
   ]
  },
  {
   "cell_type": "code",
   "execution_count": null,
   "id": "4ded2bb6",
   "metadata": {},
   "outputs": [],
   "source": []
  }
 ],
 "metadata": {
  "kernelspec": {
   "display_name": "Python 3 (ipykernel)",
   "language": "python",
   "name": "python3"
  },
  "language_info": {
   "codemirror_mode": {
    "name": "ipython",
    "version": 3
   },
   "file_extension": ".py",
   "mimetype": "text/x-python",
   "name": "python",
   "nbconvert_exporter": "python",
   "pygments_lexer": "ipython3",
   "version": "3.9.15"
  }
 },
 "nbformat": 4,
 "nbformat_minor": 5
}
