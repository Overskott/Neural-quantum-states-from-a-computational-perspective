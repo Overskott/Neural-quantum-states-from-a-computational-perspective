{
 "cells": [
  {
   "cell_type": "code",
   "execution_count": 1,
   "id": "42d8226d",
   "metadata": {},
   "outputs": [],
   "source": [
    "# From here: https://stackoverflow.com/questions/49264194/import-py-file-in-another-directory-in-jupyter-notebook\n",
    "import sys\n",
    "import os\n",
    "\n",
    "module_path = os.path.abspath(os.path.join('..'))\n",
    "\n",
    "if module_path not in sys.path:\n",
    "    sys.path.append(module_path)\n"
   ]
  },
  {
   "cell_type": "code",
   "execution_count": 2,
   "id": "75e039a7",
   "metadata": {},
   "outputs": [],
   "source": [
    "import numpy as np\n",
    "import copy\n",
    "\n",
    "import src.mcmc as mcmc\n",
    "import src.utils as utils\n",
    "from src.ansatz import RBM\n",
    "from src.model import Model\n",
    "from config_parser import get_config_file\n",
    "\n",
    "import matplotlib.pyplot as plt\n",
    "%matplotlib inline\n"
   ]
  },
  {
   "cell_type": "code",
   "execution_count": 3,
   "id": "4752a409",
   "metadata": {},
   "outputs": [],
   "source": [
    "visible_layer_size = 3\n",
    "hidden_layer_size = 8\n",
    "seed = 44  # Seed for random number generator\n",
    "walker_steps = 1000\n",
    "off_diag_size = 1\n",
    "\n"
   ]
  },
  {
   "cell_type": "code",
   "execution_count": 4,
   "id": "98ab5d26",
   "metadata": {},
   "outputs": [],
   "source": [
    "np.random.seed(seed)\n",
    "\n",
    "b = utils.random_complex_array(visible_layer_size)  # Visible layer bias\n",
    "c = utils.random_complex_array(hidden_layer_size)  # Hidden layer bias\n",
    "W = utils.random_complex_matrix(visible_layer_size, hidden_layer_size)  # Visible - hidden weights\n",
    "H_full = utils.random_hamiltonian(2**visible_layer_size)  # Hamiltonian\n",
    "walker_full = mcmc.Walker(steps=walker_steps)\n",
    "rbm_full = RBM(visible_bias=b, hidden_bias=c, weights=W)  # Initializing RBM currently with random configuration and parameters\n",
    "model_full = Model(rbm_full, walker_full, H_full)  # Initializing model with RBM and Hamiltonian"
   ]
  },
  {
   "cell_type": "code",
   "execution_count": 5,
   "id": "4539f654",
   "metadata": {},
   "outputs": [],
   "source": [
    "H_sparse = utils.random_diagonal_hamiltonian(2*visible_layer_size, off_diag_size)\n",
    "walker_sparse = mcmc.Walker(steps=walker_steps)\n",
    "rbm_sparse = RBM(visible_bias=b, hidden_bias=c, weights=W)\n",
    "model_sparse = Model(rbm_sparse, walker_sparse, H_sparse)"
   ]
  },
  {
   "cell_type": "code",
   "execution_count": null,
   "id": "5f43400f",
   "metadata": {},
   "outputs": [],
   "source": [
    "# Training models\n",
    "\n",
    "termination_condition = 1e-5\n",
    "gradient_steps = 100\n",
    "learning_rate = 0.05"
   ]
  },
  {
   "cell_type": "code",
   "execution_count": 6,
   "id": "bb4a4866",
   "metadata": {
    "scrolled": true
   },
   "outputs": [
    {
     "name": "stdout",
     "output_type": "stream",
     "text": [
      "Gradient descent step 1, energy: -2.7841418862137894\n",
      "Gradient descent step 2, energy: -3.4222224366782044\n",
      "Gradient descent step 3, energy: -3.45220836496278\n",
      "Gradient descent step 4, energy: -3.8940726297657298\n",
      "Gradient descent step 5, energy: -4.214729035683401\n",
      "Gradient descent step 6, energy: -4.379317067604184\n",
      "Gradient descent step 7, energy: -4.54756343182437\n",
      "Gradient descent step 8, energy: -4.797966852382935\n",
      "Gradient descent step 9, energy: -5.020366808076551\n",
      "Gradient descent step 10, energy: -4.951601886321749\n",
      "Gradient descent step 11, energy: -4.607017753939354\n",
      "Gradient descent step 12, energy: -4.291527644533372\n",
      "Gradient descent step 13, energy: -4.096916606948763\n",
      "Gradient descent step 14, energy: -3.9892666691119754\n",
      "Gradient descent step 15, energy: -3.933404846802686\n",
      "Gradient descent step 16, energy: -3.906045280234991\n",
      "Gradient descent step 17, energy: -3.878655448662445\n",
      "Gradient descent step 18, energy: -3.807465132063589\n",
      "Gradient descent step 19, energy: -3.647524060075298\n",
      "Gradient descent step 20, energy: -3.3855779411196245\n",
      "Gradient descent step 21, energy: -3.136630657722133\n",
      "Gradient descent step 22, energy: -3.226408617957728\n",
      "Gradient descent step 23, energy: -3.73291039996779\n",
      "Gradient descent step 24, energy: -4.340640234240713\n",
      "Gradient descent step 25, energy: -4.8256573979873\n",
      "Gradient descent step 26, energy: -5.152640451264631\n",
      "Gradient descent step 27, energy: -5.367345552464096\n",
      "Gradient descent step 28, energy: -5.512369370015957\n",
      "Gradient descent step 29, energy: -5.607568802977487\n",
      "Gradient descent step 30, energy: -5.659573412745933\n",
      "Gradient descent step 31, energy: -5.677846093449476\n",
      "Gradient descent step 32, energy: -5.683288134336269\n",
      "Gradient descent step 33, energy: -5.7017931128334\n",
      "Gradient descent step 34, energy: -5.751463521266041\n",
      "Gradient descent step 35, energy: -5.8364737981599895\n",
      "Gradient descent step 36, energy: -5.949630394580633\n",
      "Gradient descent step 37, energy: -6.079097308599168\n",
      "Gradient descent step 38, energy: -6.213860788720117\n",
      "Gradient descent step 39, energy: -6.342520836108429\n",
      "Gradient descent step 40, energy: -6.4455200135979664\n",
      "Gradient descent step 41, energy: -6.494580245923437\n",
      "Gradient descent step 42, energy: -6.476689150809851\n",
      "Gradient descent step 43, energy: -6.417307161196003\n",
      "Gradient descent step 44, energy: -6.350607381474553\n",
      "Gradient descent step 45, energy: -6.2880083520337635\n",
      "Gradient descent step 46, energy: -6.2407559093473015\n",
      "Gradient descent step 47, energy: -6.229291428194784\n",
      "Gradient descent step 48, energy: -6.254945467111433\n",
      "Gradient descent step 49, energy: -6.289574862407967\n",
      "Gradient descent step 50, energy: -6.302965216126903\n",
      "Gradient descent step 51, energy: -6.294587251212013\n",
      "Gradient descent step 52, energy: -6.2896482623804415\n",
      "Gradient descent step 53, energy: -6.306821769483712\n",
      "Gradient descent step 54, energy: -6.341301919301003\n",
      "Gradient descent step 55, energy: -6.3779225789165075\n",
      "Gradient descent step 56, energy: -6.413303388057098\n",
      "Gradient descent step 57, energy: -6.460862667929783\n",
      "Gradient descent step 58, energy: -6.533787004469458\n",
      "Gradient descent step 59, energy: -6.626479845605392\n",
      "Gradient descent step 60, energy: -6.715137137821308\n",
      "Gradient descent step 61, energy: -6.778648249709281\n",
      "Gradient descent step 62, energy: -6.817085710221413\n",
      "Gradient descent step 63, energy: -6.841059440317105\n",
      "Gradient descent step 64, energy: -6.847656838095732\n",
      "Gradient descent step 65, energy: -6.824343292817165\n",
      "Gradient descent step 66, energy: -6.772577015711201\n",
      "Gradient descent step 67, energy: -6.699389818067193\n",
      "Gradient descent step 68, energy: -6.5958574297326305\n",
      "Gradient descent step 69, energy: -6.4561611580701275\n",
      "Gradient descent step 70, energy: -6.298609576975791\n",
      "Gradient descent step 71, energy: -6.151289613282961\n",
      "Gradient descent step 72, energy: -6.031045862715569\n",
      "Gradient descent step 73, energy: -5.941467017796185\n",
      "Gradient descent step 74, energy: -5.881155386609725\n",
      "Gradient descent step 75, energy: -5.849063933220936\n",
      "Gradient descent step 76, energy: -5.844777124843117\n",
      "Gradient descent step 77, energy: -5.867012183504034\n",
      "Gradient descent step 78, energy: -5.912806412635046\n",
      "Gradient descent step 79, energy: -5.977675872340549\n",
      "Gradient descent step 80, energy: -6.056271004657432\n",
      "Gradient descent step 81, energy: -6.143499258724544\n",
      "Gradient descent step 82, energy: -6.2360000290578395\n",
      "Gradient descent step 83, energy: -6.332775516507157\n",
      "Gradient descent step 84, energy: -6.433314824014371\n",
      "Gradient descent step 85, energy: -6.5332335471073275\n",
      "Gradient descent step 86, energy: -6.6206306992367185\n",
      "Gradient descent step 87, energy: -6.678915942796104\n",
      "Gradient descent step 88, energy: -6.699721912449229\n",
      "Gradient descent step 89, energy: -6.69637507430115\n",
      "Gradient descent step 90, energy: -6.695640589548636\n",
      "Gradient descent step 91, energy: -6.709639475379907\n",
      "Gradient descent step 92, energy: -6.72644546668617\n",
      "Gradient descent step 93, energy: -6.7318280951173985\n",
      "Gradient descent step 94, energy: -6.727982525484965\n",
      "Gradient descent step 95, energy: -6.726855281365443\n",
      "Gradient descent step 96, energy: -6.733890942458963\n",
      "Gradient descent step 97, energy: -6.742699144366697\n",
      "Gradient descent step 98, energy: -6.742801370161068\n",
      "Gradient descent step 99, energy: -6.730805655866199\n",
      "Gradient descent step 100, energy: -6.713528441599751\n"
     ]
    },
    {
     "ename": "IndexError",
     "evalue": "index 6 is out of bounds for axis 1 with size 6",
     "output_type": "error",
     "traceback": [
      "\u001b[1;31m---------------------------------------------------------------------------\u001b[0m",
      "\u001b[1;31mIndexError\u001b[0m                                Traceback (most recent call last)",
      "Cell \u001b[1;32mIn[6], line 12\u001b[0m\n\u001b[0;32m      5\u001b[0m learning_rate \u001b[38;5;241m=\u001b[39m \u001b[38;5;241m0.05\u001b[39m\n\u001b[0;32m      7\u001b[0m fd_plot_full_list \u001b[38;5;241m=\u001b[39m model_full\u001b[38;5;241m.\u001b[39mgradient_descent(gradient_method\u001b[38;5;241m=\u001b[39m\u001b[38;5;124m'\u001b[39m\u001b[38;5;124mfinite_difference\u001b[39m\u001b[38;5;124m'\u001b[39m, \n\u001b[0;32m      8\u001b[0m                                               exact_dist\u001b[38;5;241m=\u001b[39m\u001b[38;5;28;01mTrue\u001b[39;00m, n_steps\u001b[38;5;241m=\u001b[39mgradient_steps, \n\u001b[0;32m      9\u001b[0m                                               learning_rate\u001b[38;5;241m=\u001b[39mlearning_rate, \n\u001b[0;32m     10\u001b[0m                                               termination_condition\u001b[38;5;241m=\u001b[39mtermination_condition)\n\u001b[1;32m---> 12\u001b[0m fd_plot_sparse_list \u001b[38;5;241m=\u001b[39m \u001b[43mmodel_sparse\u001b[49m\u001b[38;5;241;43m.\u001b[39;49m\u001b[43mgradient_descent\u001b[49m\u001b[43m(\u001b[49m\u001b[43mgradient_method\u001b[49m\u001b[38;5;241;43m=\u001b[39;49m\u001b[38;5;124;43m'\u001b[39;49m\u001b[38;5;124;43mfinite_difference\u001b[39;49m\u001b[38;5;124;43m'\u001b[39;49m\u001b[43m,\u001b[49m\u001b[43m \u001b[49m\n\u001b[0;32m     13\u001b[0m \u001b[43m                                              \u001b[49m\u001b[43mexact_dist\u001b[49m\u001b[38;5;241;43m=\u001b[39;49m\u001b[38;5;28;43;01mTrue\u001b[39;49;00m\u001b[43m,\u001b[49m\u001b[43m \u001b[49m\u001b[43mn_steps\u001b[49m\u001b[38;5;241;43m=\u001b[39;49m\u001b[43mgradient_steps\u001b[49m\u001b[43m,\u001b[49m\u001b[43m \u001b[49m\n\u001b[0;32m     14\u001b[0m \u001b[43m                                              \u001b[49m\u001b[43mlearning_rate\u001b[49m\u001b[38;5;241;43m=\u001b[39;49m\u001b[43mlearning_rate\u001b[49m\u001b[43m,\u001b[49m\u001b[43m \u001b[49m\n\u001b[0;32m     15\u001b[0m \u001b[43m                                              \u001b[49m\u001b[43mtermination_condition\u001b[49m\u001b[38;5;241;43m=\u001b[39;49m\u001b[43mtermination_condition\u001b[49m\u001b[43m)\u001b[49m\n",
      "File \u001b[1;32m~\\Python\\Master-Thesis-Project\\src\\model.py:156\u001b[0m, in \u001b[0;36mModel.gradient_descent\u001b[1;34m(self, gradient_method, learning_rate, n_steps, termination_condition, adam_optimization, exact_dist)\u001b[0m\n\u001b[0;32m    153\u001b[0m \u001b[38;5;28;01mtry\u001b[39;00m:\n\u001b[0;32m    154\u001b[0m     b \u001b[38;5;241m=\u001b[39m a\n\u001b[1;32m--> 156\u001b[0m     energy \u001b[38;5;241m=\u001b[39m \u001b[38;5;28;43mself\u001b[39;49m\u001b[38;5;241;43m.\u001b[39;49m\u001b[43mexact_energy\u001b[49m\u001b[43m(\u001b[49m\u001b[38;5;28;43mself\u001b[39;49m\u001b[38;5;241;43m.\u001b[39;49m\u001b[43mget_all_states\u001b[49m\u001b[43m(\u001b[49m\u001b[43m)\u001b[49m\u001b[43m)\u001b[49m\n\u001b[0;32m    157\u001b[0m     a \u001b[38;5;241m=\u001b[39m energy\n\u001b[0;32m    158\u001b[0m     \u001b[38;5;28mprint\u001b[39m(\u001b[38;5;124mf\u001b[39m\u001b[38;5;124m\"\u001b[39m\u001b[38;5;124mGradient descent step \u001b[39m\u001b[38;5;132;01m{\u001b[39;00mi\u001b[38;5;250m \u001b[39m\u001b[38;5;241m+\u001b[39m\u001b[38;5;250m \u001b[39m\u001b[38;5;241m1\u001b[39m\u001b[38;5;132;01m}\u001b[39;00m\u001b[38;5;124m, energy: \u001b[39m\u001b[38;5;132;01m{\u001b[39;00menergy\u001b[38;5;132;01m}\u001b[39;00m\u001b[38;5;124m\"\u001b[39m)\n",
      "File \u001b[1;32m~\\Python\\Master-Thesis-Project\\src\\model.py:60\u001b[0m, in \u001b[0;36mModel.exact_energy\u001b[1;34m(self, dist)\u001b[0m\n\u001b[0;32m     58\u001b[0m     distribution \u001b[38;5;241m=\u001b[39m dist\n\u001b[0;32m     59\u001b[0m \u001b[38;5;66;03m# Calculates the exact energy of the model by sampling over all possible states\u001b[39;00m\n\u001b[1;32m---> 60\u001b[0m local_energy_list \u001b[38;5;241m=\u001b[39m np\u001b[38;5;241m.\u001b[39masarray([\u001b[38;5;28mself\u001b[39m\u001b[38;5;241m.\u001b[39mlocal_energy(state) \u001b[38;5;28;01mfor\u001b[39;00m state \u001b[38;5;129;01min\u001b[39;00m distribution])  \u001b[38;5;66;03m# Can be computed only once\u001b[39;00m\n\u001b[0;32m     61\u001b[0m probability_list \u001b[38;5;241m=\u001b[39m \u001b[38;5;28mself\u001b[39m\u001b[38;5;241m.\u001b[39mget_prob_distribution(distribution)\n\u001b[0;32m     63\u001b[0m \u001b[38;5;28;01mreturn\u001b[39;00m np\u001b[38;5;241m.\u001b[39mreal(\u001b[38;5;28msum\u001b[39m(probability_list \u001b[38;5;241m*\u001b[39m local_energy_list))\n",
      "File \u001b[1;32m~\\Python\\Master-Thesis-Project\\src\\model.py:60\u001b[0m, in \u001b[0;36m<listcomp>\u001b[1;34m(.0)\u001b[0m\n\u001b[0;32m     58\u001b[0m     distribution \u001b[38;5;241m=\u001b[39m dist\n\u001b[0;32m     59\u001b[0m \u001b[38;5;66;03m# Calculates the exact energy of the model by sampling over all possible states\u001b[39;00m\n\u001b[1;32m---> 60\u001b[0m local_energy_list \u001b[38;5;241m=\u001b[39m np\u001b[38;5;241m.\u001b[39masarray([\u001b[38;5;28;43mself\u001b[39;49m\u001b[38;5;241;43m.\u001b[39;49m\u001b[43mlocal_energy\u001b[49m\u001b[43m(\u001b[49m\u001b[43mstate\u001b[49m\u001b[43m)\u001b[49m \u001b[38;5;28;01mfor\u001b[39;00m state \u001b[38;5;129;01min\u001b[39;00m distribution])  \u001b[38;5;66;03m# Can be computed only once\u001b[39;00m\n\u001b[0;32m     61\u001b[0m probability_list \u001b[38;5;241m=\u001b[39m \u001b[38;5;28mself\u001b[39m\u001b[38;5;241m.\u001b[39mget_prob_distribution(distribution)\n\u001b[0;32m     63\u001b[0m \u001b[38;5;28;01mreturn\u001b[39;00m np\u001b[38;5;241m.\u001b[39mreal(\u001b[38;5;28msum\u001b[39m(probability_list \u001b[38;5;241m*\u001b[39m local_energy_list))\n",
      "File \u001b[1;32m~\\Python\\Master-Thesis-Project\\src\\model.py:89\u001b[0m, in \u001b[0;36mModel.local_energy\u001b[1;34m(self, state)\u001b[0m\n\u001b[0;32m     87\u001b[0m         \u001b[38;5;28;01melse\u001b[39;00m:\n\u001b[0;32m     88\u001b[0m             p_j \u001b[38;5;241m=\u001b[39m \u001b[38;5;28mself\u001b[39m\u001b[38;5;241m.\u001b[39mrbm\u001b[38;5;241m.\u001b[39mamplitude(utils\u001b[38;5;241m.\u001b[39mint_to_binary_array(j, state\u001b[38;5;241m.\u001b[39msize))\n\u001b[1;32m---> 89\u001b[0m             h_ij \u001b[38;5;241m=\u001b[39m \u001b[38;5;28;43mself\u001b[39;49m\u001b[38;5;241;43m.\u001b[39;49m\u001b[43mhamiltonian\u001b[49m\u001b[43m[\u001b[49m\u001b[43mi\u001b[49m\u001b[43m,\u001b[49m\u001b[43m \u001b[49m\u001b[43mj\u001b[49m\u001b[43m]\u001b[49m\n\u001b[0;32m     91\u001b[0m             local_energy \u001b[38;5;241m+\u001b[39m\u001b[38;5;241m=\u001b[39m h_ij \u001b[38;5;241m*\u001b[39m p_j \u001b[38;5;241m/\u001b[39m p_i\n\u001b[0;32m     93\u001b[0m \u001b[38;5;28;01mreturn\u001b[39;00m local_energy\n",
      "\u001b[1;31mIndexError\u001b[0m: index 6 is out of bounds for axis 1 with size 6"
     ]
    }
   ],
   "source": [
    "fd_plot_full_list = model_full.gradient_descent(gradient_method='finite_difference', \n",
    "                                              exact_dist=True, n_steps=gradient_steps, \n",
    "                                              learning_rate=learning_rate, \n",
    "                                              termination_condition=termination_condition)"
   ]
  },
  {
   "cell_type": "code",
   "execution_count": 7,
   "id": "3ca24da5",
   "metadata": {},
   "outputs": [
    {
     "ename": "IndexError",
     "evalue": "index 6 is out of bounds for axis 1 with size 6",
     "output_type": "error",
     "traceback": [
      "\u001b[1;31m---------------------------------------------------------------------------\u001b[0m",
      "\u001b[1;31mIndexError\u001b[0m                                Traceback (most recent call last)",
      "Cell \u001b[1;32mIn[7], line 1\u001b[0m\n\u001b[1;32m----> 1\u001b[0m fd_plot_sparse_list \u001b[38;5;241m=\u001b[39m \u001b[43mmodel_sparse\u001b[49m\u001b[38;5;241;43m.\u001b[39;49m\u001b[43mgradient_descent\u001b[49m\u001b[43m(\u001b[49m\u001b[43mgradient_method\u001b[49m\u001b[38;5;241;43m=\u001b[39;49m\u001b[38;5;124;43m'\u001b[39;49m\u001b[38;5;124;43mfinite_difference\u001b[39;49m\u001b[38;5;124;43m'\u001b[39;49m\u001b[43m,\u001b[49m\u001b[43m \u001b[49m\n\u001b[0;32m      2\u001b[0m \u001b[43m                                              \u001b[49m\u001b[43mexact_dist\u001b[49m\u001b[38;5;241;43m=\u001b[39;49m\u001b[38;5;28;43;01mTrue\u001b[39;49;00m\u001b[43m,\u001b[49m\u001b[43m \u001b[49m\u001b[43mn_steps\u001b[49m\u001b[38;5;241;43m=\u001b[39;49m\u001b[43mgradient_steps\u001b[49m\u001b[43m,\u001b[49m\u001b[43m \u001b[49m\n\u001b[0;32m      3\u001b[0m \u001b[43m                                              \u001b[49m\u001b[43mlearning_rate\u001b[49m\u001b[38;5;241;43m=\u001b[39;49m\u001b[43mlearning_rate\u001b[49m\u001b[43m,\u001b[49m\u001b[43m \u001b[49m\n\u001b[0;32m      4\u001b[0m \u001b[43m                                              \u001b[49m\u001b[43mtermination_condition\u001b[49m\u001b[38;5;241;43m=\u001b[39;49m\u001b[43mtermination_condition\u001b[49m\u001b[43m)\u001b[49m\n",
      "File \u001b[1;32m~\\Python\\Master-Thesis-Project\\src\\model.py:156\u001b[0m, in \u001b[0;36mModel.gradient_descent\u001b[1;34m(self, gradient_method, learning_rate, n_steps, termination_condition, adam_optimization, exact_dist)\u001b[0m\n\u001b[0;32m    153\u001b[0m \u001b[38;5;28;01mtry\u001b[39;00m:\n\u001b[0;32m    154\u001b[0m     b \u001b[38;5;241m=\u001b[39m a\n\u001b[1;32m--> 156\u001b[0m     energy \u001b[38;5;241m=\u001b[39m \u001b[38;5;28;43mself\u001b[39;49m\u001b[38;5;241;43m.\u001b[39;49m\u001b[43mexact_energy\u001b[49m\u001b[43m(\u001b[49m\u001b[38;5;28;43mself\u001b[39;49m\u001b[38;5;241;43m.\u001b[39;49m\u001b[43mget_all_states\u001b[49m\u001b[43m(\u001b[49m\u001b[43m)\u001b[49m\u001b[43m)\u001b[49m\n\u001b[0;32m    157\u001b[0m     a \u001b[38;5;241m=\u001b[39m energy\n\u001b[0;32m    158\u001b[0m     \u001b[38;5;28mprint\u001b[39m(\u001b[38;5;124mf\u001b[39m\u001b[38;5;124m\"\u001b[39m\u001b[38;5;124mGradient descent step \u001b[39m\u001b[38;5;132;01m{\u001b[39;00mi\u001b[38;5;250m \u001b[39m\u001b[38;5;241m+\u001b[39m\u001b[38;5;250m \u001b[39m\u001b[38;5;241m1\u001b[39m\u001b[38;5;132;01m}\u001b[39;00m\u001b[38;5;124m, energy: \u001b[39m\u001b[38;5;132;01m{\u001b[39;00menergy\u001b[38;5;132;01m}\u001b[39;00m\u001b[38;5;124m\"\u001b[39m)\n",
      "File \u001b[1;32m~\\Python\\Master-Thesis-Project\\src\\model.py:60\u001b[0m, in \u001b[0;36mModel.exact_energy\u001b[1;34m(self, dist)\u001b[0m\n\u001b[0;32m     58\u001b[0m     distribution \u001b[38;5;241m=\u001b[39m dist\n\u001b[0;32m     59\u001b[0m \u001b[38;5;66;03m# Calculates the exact energy of the model by sampling over all possible states\u001b[39;00m\n\u001b[1;32m---> 60\u001b[0m local_energy_list \u001b[38;5;241m=\u001b[39m np\u001b[38;5;241m.\u001b[39masarray([\u001b[38;5;28mself\u001b[39m\u001b[38;5;241m.\u001b[39mlocal_energy(state) \u001b[38;5;28;01mfor\u001b[39;00m state \u001b[38;5;129;01min\u001b[39;00m distribution])  \u001b[38;5;66;03m# Can be computed only once\u001b[39;00m\n\u001b[0;32m     61\u001b[0m probability_list \u001b[38;5;241m=\u001b[39m \u001b[38;5;28mself\u001b[39m\u001b[38;5;241m.\u001b[39mget_prob_distribution(distribution)\n\u001b[0;32m     63\u001b[0m \u001b[38;5;28;01mreturn\u001b[39;00m np\u001b[38;5;241m.\u001b[39mreal(\u001b[38;5;28msum\u001b[39m(probability_list \u001b[38;5;241m*\u001b[39m local_energy_list))\n",
      "File \u001b[1;32m~\\Python\\Master-Thesis-Project\\src\\model.py:60\u001b[0m, in \u001b[0;36m<listcomp>\u001b[1;34m(.0)\u001b[0m\n\u001b[0;32m     58\u001b[0m     distribution \u001b[38;5;241m=\u001b[39m dist\n\u001b[0;32m     59\u001b[0m \u001b[38;5;66;03m# Calculates the exact energy of the model by sampling over all possible states\u001b[39;00m\n\u001b[1;32m---> 60\u001b[0m local_energy_list \u001b[38;5;241m=\u001b[39m np\u001b[38;5;241m.\u001b[39masarray([\u001b[38;5;28;43mself\u001b[39;49m\u001b[38;5;241;43m.\u001b[39;49m\u001b[43mlocal_energy\u001b[49m\u001b[43m(\u001b[49m\u001b[43mstate\u001b[49m\u001b[43m)\u001b[49m \u001b[38;5;28;01mfor\u001b[39;00m state \u001b[38;5;129;01min\u001b[39;00m distribution])  \u001b[38;5;66;03m# Can be computed only once\u001b[39;00m\n\u001b[0;32m     61\u001b[0m probability_list \u001b[38;5;241m=\u001b[39m \u001b[38;5;28mself\u001b[39m\u001b[38;5;241m.\u001b[39mget_prob_distribution(distribution)\n\u001b[0;32m     63\u001b[0m \u001b[38;5;28;01mreturn\u001b[39;00m np\u001b[38;5;241m.\u001b[39mreal(\u001b[38;5;28msum\u001b[39m(probability_list \u001b[38;5;241m*\u001b[39m local_energy_list))\n",
      "File \u001b[1;32m~\\Python\\Master-Thesis-Project\\src\\model.py:89\u001b[0m, in \u001b[0;36mModel.local_energy\u001b[1;34m(self, state)\u001b[0m\n\u001b[0;32m     87\u001b[0m         \u001b[38;5;28;01melse\u001b[39;00m:\n\u001b[0;32m     88\u001b[0m             p_j \u001b[38;5;241m=\u001b[39m \u001b[38;5;28mself\u001b[39m\u001b[38;5;241m.\u001b[39mrbm\u001b[38;5;241m.\u001b[39mamplitude(utils\u001b[38;5;241m.\u001b[39mint_to_binary_array(j, state\u001b[38;5;241m.\u001b[39msize))\n\u001b[1;32m---> 89\u001b[0m             h_ij \u001b[38;5;241m=\u001b[39m \u001b[38;5;28;43mself\u001b[39;49m\u001b[38;5;241;43m.\u001b[39;49m\u001b[43mhamiltonian\u001b[49m\u001b[43m[\u001b[49m\u001b[43mi\u001b[49m\u001b[43m,\u001b[49m\u001b[43m \u001b[49m\u001b[43mj\u001b[49m\u001b[43m]\u001b[49m\n\u001b[0;32m     91\u001b[0m             local_energy \u001b[38;5;241m+\u001b[39m\u001b[38;5;241m=\u001b[39m h_ij \u001b[38;5;241m*\u001b[39m p_j \u001b[38;5;241m/\u001b[39m p_i\n\u001b[0;32m     93\u001b[0m \u001b[38;5;28;01mreturn\u001b[39;00m local_energy\n",
      "\u001b[1;31mIndexError\u001b[0m: index 6 is out of bounds for axis 1 with size 6"
     ]
    }
   ],
   "source": [
    "fd_plot_sparse_list = model_sparse.gradient_descent(gradient_method='finite_difference', \n",
    "                                              exact_dist=True, n_steps=gradient_steps, \n",
    "                                              learning_rate=learning_rate, \n",
    "                                              termination_condition=termination_condition)"
   ]
  },
  {
   "cell_type": "code",
   "execution_count": null,
   "id": "c3dc42ea",
   "metadata": {},
   "outputs": [],
   "source": [
    "print(f\"Full Hamiltonian time: {model_full.optimizing_time}\")\n",
    "print(f\"Sparse Hamiltonian time: {model_sparse.optimizing_time}\")"
   ]
  },
  {
   "cell_type": "code",
   "execution_count": null,
   "id": "ce73f2a0",
   "metadata": {},
   "outputs": [],
   "source": [
    "plt.plot(np.real(fd_plot_full_list), label='Full H')\n",
    "plt.plot(np.real(fd_plot_sparse_list), label='Sparse H')\n",
    "\n",
    "plt.axhline(y=min(np.linalg.eigvalsh(H_full)), color='red', linestyle='--', label='Ground State full')\n",
    "plt.axhline(y=min(np.linalg.eigvalsh(H_sparse)), color='blue', linestyle='--', label='Ground State sparse')\n",
    "plt.title('Full vs Sparse H gradent descent')\n",
    "plt.xlabel('Steps')\n",
    "plt.ylabel('Energy')\n",
    "plt.legend()\n"
   ]
  },
  {
   "cell_type": "code",
   "execution_count": null,
   "id": "4ded2bb6",
   "metadata": {},
   "outputs": [],
   "source": []
  }
 ],
 "metadata": {
  "kernelspec": {
   "display_name": "Python 3 (ipykernel)",
   "language": "python",
   "name": "python3"
  },
  "language_info": {
   "codemirror_mode": {
    "name": "ipython",
    "version": 3
   },
   "file_extension": ".py",
   "mimetype": "text/x-python",
   "name": "python",
   "nbconvert_exporter": "python",
   "pygments_lexer": "ipython3",
   "version": "3.9.13"
  }
 },
 "nbformat": 4,
 "nbformat_minor": 5
}
