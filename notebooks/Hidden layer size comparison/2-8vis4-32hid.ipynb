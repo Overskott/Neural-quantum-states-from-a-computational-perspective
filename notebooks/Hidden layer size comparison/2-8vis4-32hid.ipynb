{
 "cells": [
  {
   "cell_type": "code",
   "execution_count": 1,
   "metadata": {},
   "outputs": [],
   "source": [
    "# Adding src module to path\n",
    "import sys\n",
    "import os\n",
    "module_path = os.path.abspath(os.path.join('..'))\n",
    "\n",
    "if module_path not in sys.path:\n",
    "    sys.path.append(module_path)\n"
   ]
  },
  {
   "cell_type": "code",
   "execution_count": 2,
   "metadata": {},
   "outputs": [
    {
     "ename": "ModuleNotFoundError",
     "evalue": "No module named 'src.ansatz'",
     "output_type": "error",
     "traceback": [
      "\u001b[1;31m---------------------------------------------------------------------------\u001b[0m",
      "\u001b[1;31mModuleNotFoundError\u001b[0m                       Traceback (most recent call last)",
      "Cell \u001b[1;32mIn[2], line 9\u001b[0m\n\u001b[0;32m      6\u001b[0m get_ipython()\u001b[38;5;241m.\u001b[39mrun_line_magic(\u001b[38;5;124m'\u001b[39m\u001b[38;5;124mmatplotlib\u001b[39m\u001b[38;5;124m'\u001b[39m, \u001b[38;5;124m'\u001b[39m\u001b[38;5;124mnotebook\u001b[39m\u001b[38;5;124m'\u001b[39m)\n\u001b[0;32m      8\u001b[0m \u001b[38;5;28;01mimport\u001b[39;00m \u001b[38;5;21;01msrc\u001b[39;00m\u001b[38;5;21;01m.\u001b[39;00m\u001b[38;5;21;01mutils\u001b[39;00m \u001b[38;5;28;01mas\u001b[39;00m \u001b[38;5;21;01mutils\u001b[39;00m\n\u001b[1;32m----> 9\u001b[0m \u001b[38;5;28;01mfrom\u001b[39;00m \u001b[38;5;21;01msrc\u001b[39;00m\u001b[38;5;21;01m.\u001b[39;00m\u001b[38;5;21;01mansatz\u001b[39;00m \u001b[38;5;28;01mimport\u001b[39;00m RBM\n",
      "\u001b[1;31mModuleNotFoundError\u001b[0m: No module named 'src.ansatz'"
     ]
    }
   ],
   "source": [
    "# general imports\n",
    "from datetime import datetime\n",
    "from tqdm.notebook import tqdm\n",
    "import numpy as np\n",
    "import matplotlib.pyplot as plt\n",
    "%matplotlib notebook\n",
    "\n",
    "import src.utils as utils\n",
    "from src.ansatz import RBM\n"
   ]
  },
  {
   "cell_type": "markdown",
   "metadata": {},
   "source": [
    "## Testing hidden node accuracy\n",
    "\n",
    "Training several RBMs with increasing number of visible nodes. For each RBM we test how increasing the number of hidden nodes affects accuracy."
   ]
  },
  {
   "cell_type": "code",
   "execution_count": null,
   "metadata": {
    "scrolled": false
   },
   "outputs": [],
   "source": [
    "\n",
    "#Initializing starting values \n",
    "n_vis = 2\n",
    "vis_inc = 2\n",
    "total_vis = 4\n",
    "\n",
    "\n",
    "n_hid_start = 4\n",
    "n_hid = n_hid_start\n",
    "hid_inc = 2\n",
    "total_hid = 5\n",
    "\n",
    "energy_list = []\n",
    "n_hid_list =[]\n",
    "\n",
    "seed = 42\n",
    "\n",
    "\n",
    "username = os.getlogin()\n",
    "desktop_path = f\"{os.path.expanduser(os.getenv('USERPROFILE'))}\\\\Desktop\"\n",
    "\n",
    "date_format = '%Y.%m.%d;%H%M'\n",
    "\n",
    "path = f\"{desktop_path}\\\\{datetime.now().strftime(date_format)}-RBMplots\"\n",
    "os.makedirs(path)\n",
    "\n",
    "for i in tqdm(range(total_vis), position=0, desc=f\"Total\", leave=False, colour='green'):\n",
    "    \n",
    "    #Finding true ground state energy and displaying it\n",
    "    np.random.seed(seed)\n",
    "    \n",
    "    hamiltonian = utils.random_hamiltonian(2**n_vis)\n",
    "    eig,_ = np.linalg.eigh(hamiltonian)\n",
    "    E_truth = np.min(eig)\n",
    "    #print(f\"Energy truth: {E_truth}\")\n",
    "    \n",
    "    for j in tqdm(range(total_hid), position=1, desc=f\"Training\", leave=False, colour='red'):\n",
    "        np.random.seed(seed)\n",
    "        \n",
    "        hamiltonian = utils.random_hamiltonian(2**n_vis)\n",
    "\n",
    "        rbm = RBM(visible_size=n_vis, hidden_size=n_hid, hamiltonian=hamiltonian)\n",
    "        energy_list.append(rbm.train(iter=1000, lr=0.01))\n",
    "        n_hid_list.append(n_hid)\n",
    "        n_hid *= hid_inc\n",
    "    \n",
    "    # Print loop    \n",
    "    labels = [f\"Hidden = {i}\" for i in n_hid_list]\n",
    "    labels.append(\"True energy\")\n",
    "    \n",
    "    # plt.ioff() # uncomment to stop plotting in notebook\n",
    "    plt.figure(i)\n",
    "    \n",
    "    \n",
    "    for energy in energy_list:\n",
    "        plt.plot(energy)\n",
    "        plt.xlabel('Gradient steps')\n",
    "        plt.ylabel('Energy')\n",
    "\n",
    "    plt.title(f\"Training of RBM with {n_vis} visible nodes\")\n",
    "    plt.axhline(y=E_truth, color='k', linestyle='--')\n",
    "    plt.legend(labels)\n",
    "\n",
    "    # Save figure as pdf\n",
    "    plt.savefig(f\"{path}/{n_vis}nodes.pdf\")\n",
    "    \n",
    "    n_vis += vis_inc\n",
    "    n_hid = n_hid_start\n",
    "    energy_list.clear()\n",
    "    n_hid_list.clear()\n",
    "    labels.clear()\n",
    "\n"
   ]
  },
  {
   "cell_type": "code",
   "execution_count": null,
   "metadata": {},
   "outputs": [],
   "source": []
  }
 ],
 "metadata": {
  "kernelspec": {
   "display_name": "Python 3 (ipykernel)",
   "language": "python",
   "name": "python3"
  },
  "language_info": {
   "codemirror_mode": {
    "name": "ipython",
    "version": 3
   },
   "file_extension": ".py",
   "mimetype": "text/x-python",
   "name": "python",
   "nbconvert_exporter": "python",
   "pygments_lexer": "ipython3",
   "version": "3.9.13"
  }
 },
 "nbformat": 4,
 "nbformat_minor": 2
}
